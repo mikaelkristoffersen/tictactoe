{
 "metadata": {
  "language_info": {
   "codemirror_mode": {
    "name": "ipython",
    "version": 3
   },
   "file_extension": ".py",
   "mimetype": "text/x-python",
   "name": "python",
   "nbconvert_exporter": "python",
   "pygments_lexer": "ipython3",
   "version": "3.8.5-final"
  },
  "orig_nbformat": 2,
  "kernelspec": {
   "name": "python_defaultSpec_1600024410552",
   "display_name": "Python 3.8.5 64-bit"
  }
 },
 "nbformat": 4,
 "nbformat_minor": 2,
 "cells": [
  {
   "cell_type": "code",
   "execution_count": 1,
   "metadata": {
    "tags": []
   },
   "outputs": [
    {
     "output_type": "stream",
     "name": "stdout",
     "text": "[[None, None, None], [None, None, None], [None, None, None]]\n"
    }
   ],
   "source": [
    "import tictactoe as ttt\n",
    "import copy\n",
    "board = ttt.initial_state()\n",
    "print(board)"
   ]
  },
  {
   "cell_type": "code",
   "execution_count": 2,
   "metadata": {
    "tags": []
   },
   "outputs": [
    {
     "output_type": "stream",
     "name": "stdout",
     "text": "X\n[[None, None, None], [None, None, None], [None, None, None]]\n"
    }
   ],
   "source": [
    "print(ttt.player(board))\n",
    "print(board)"
   ]
  },
  {
   "cell_type": "code",
   "execution_count": 3,
   "metadata": {},
   "outputs": [],
   "source": [
    "magic_square = [8,1,6,3,5,7,4,9,2]"
   ]
  },
  {
   "cell_type": "code",
   "execution_count": 4,
   "metadata": {},
   "outputs": [],
   "source": [
    "def square_combis(lst, n):\n",
    "    for i in range(0, len(lst), n):\n",
    "        yield lst[i:i + n]\n",
    "    for i in range(0, n):\n",
    "        yield lst[i::n]\n",
    "    for i in [0,1]*(n-1):\n",
    "        yield lst[i::n+1-i]"
   ]
  },
  {
   "cell_type": "code",
   "execution_count": 5,
   "metadata": {
    "tags": []
   },
   "outputs": [
    {
     "output_type": "stream",
     "name": "stdout",
     "text": "[8, 1, 6] 15\n[3, 5, 7] 15\n[4, 9, 2] 15\n[8, 3, 4] 15\n[1, 5, 9] 15\n[6, 7, 2] 15\n[8, 5, 2] 15\n[1, 5, 9] 15\n[8, 5, 2] 15\n[1, 5, 9] 15\n"
    }
   ],
   "source": [
    "for i in square_combis(magic_square,3):\n",
    "    print(i, sum(i))"
   ]
  },
  {
   "cell_type": "code",
   "execution_count": 6,
   "metadata": {
    "tags": []
   },
   "outputs": [
    {
     "output_type": "stream",
     "name": "stdout",
     "text": "[['X', None, None], [None, None, None], [None, None, None]]\nNone\n[['X', None, None], [None, 'O', None], [None, None, None]]\nNone\n[['X', 'X', None], [None, 'O', None], [None, None, None]]\nNone\n[['X', 'X', None], [None, 'O', None], [None, None, 'O']]\nNone\n[['X', 'X', 'X'], [None, 'O', None], [None, None, 'O']]\nX\n"
    }
   ],
   "source": [
    "board = ttt.initial_state()\n",
    "board = ttt.result(board,(0,0))\n",
    "print(board)\n",
    "print(ttt.winner(board))\n",
    "board = ttt.result(board,(1,1))\n",
    "print(board)\n",
    "print(ttt.winner(board))\n",
    "board = ttt.result(board,(0,1))\n",
    "print(board)\n",
    "print(ttt.winner(board))\n",
    "board = ttt.result(board,(2,2))\n",
    "print(board)\n",
    "print(ttt.winner(board))\n",
    "board = ttt.result(board,(0,2))\n",
    "print(board)\n",
    "print(ttt.winner(board))"
   ]
  },
  {
   "cell_type": "code",
   "execution_count": 7,
   "metadata": {
    "tags": []
   },
   "outputs": [
    {
     "output_type": "stream",
     "name": "stdout",
     "text": "[[None, None, None], [None, None, None], [None, 'X', None]]\nNone\n[['O', None, None], [None, None, None], [None, 'X', None]]\nNone\n[['O', None, None], [None, 'X', None], [None, 'X', None]]\nNone\n[['O', None, None], ['O', 'X', None], [None, 'X', None]]\nNone\n[['O', None, None], ['O', 'X', None], [None, 'X', 'X']]\nNone\n[['O', None, None], ['O', 'X', None], ['O', 'X', 'X']]\nO\n"
    }
   ],
   "source": [
    "board = ttt.initial_state()\n",
    "board = ttt.result(board,(2,1))\n",
    "print(board)\n",
    "print(ttt.winner(board))\n",
    "board = ttt.result(board,(0,0))\n",
    "print(board)\n",
    "print(ttt.winner(board))\n",
    "board = ttt.result(board,(1,1))\n",
    "print(board)\n",
    "print(ttt.winner(board))\n",
    "board = ttt.result(board,(1,0))\n",
    "print(board)\n",
    "print(ttt.winner(board))\n",
    "board = ttt.result(board,(2,2))\n",
    "print(board)\n",
    "print(ttt.winner(board))\n",
    "board = ttt.result(board,(2,0))\n",
    "print(board)\n",
    "print(ttt.winner(board))"
   ]
  },
  {
   "cell_type": "code",
   "execution_count": 8,
   "metadata": {
    "tags": []
   },
   "outputs": [
    {
     "output_type": "stream",
     "name": "stdout",
     "text": "[1, 0, -1, 1, -1, 0, -1, 0, 1]\n"
    }
   ],
   "source": [
    "b = [['X', None, 'O'], ['X', 'O', None], ['O', None, 'X']]\n",
    "bs = ttt.boardState(b)\n",
    "print(bs)"
   ]
  },
  {
   "cell_type": "code",
   "execution_count": 9,
   "metadata": {
    "tags": []
   },
   "outputs": [
    {
     "output_type": "stream",
     "name": "stdout",
     "text": "O\n"
    }
   ],
   "source": [
    "print(ttt.winner(b))"
   ]
  },
  {
   "cell_type": "code",
   "execution_count": 10,
   "metadata": {
    "tags": []
   },
   "outputs": [
    {
     "output_type": "stream",
     "name": "stdout",
     "text": "0\n0\n0\n1\n-1\n0\n1\n-3\n"
    }
   ],
   "source": [
    "for i in ttt.square_combis(bs,3):\n",
    "    print(i)"
   ]
  }
 ]
}